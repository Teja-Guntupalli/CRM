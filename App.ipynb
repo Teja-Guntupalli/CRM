{
 "cells": [
  {
   "cell_type": "code",
   "execution_count": null,
   "metadata": {},
   "outputs": [],
   "source": [
    "from tkinter import *\n",
    "import threading\n",
    "import time\n",
    "\n",
    "stopped = 0\n",
    "\n",
    "def bgt():\n",
    "    # What you do here doesn't really matter\n",
    "    # Just a demonstration\n",
    "    while not stopped:\n",
    "        ltext.set(str(int(ltext.get()) + 1))\n",
    "        time.sleep(0.5)\n",
    "    root.destroy()\n",
    "\n",
    "def stop():\n",
    "    global stopped\n",
    "    stopped = 1\n",
    "\n",
    "root = Tk()\n",
    "ltext = StringVar(root)\n",
    "ltext.set('0')\n",
    "label = Label(root, textvariable=ltext)\n",
    "label.pack()\n",
    "button = Button(root, text='Stop!', command=stop)\n",
    "button.pack(side=BOTTOM)\n",
    "\n",
    "t = threading.Thread(None, bgt)\n",
    "t.setDaemon(1) # Should really call stop() and t.join()\n",
    "               # on closing of the window for proper cleanup\n",
    "t.start()\n",
    "\n",
    "root.mainloop()"
   ]
  },
  {
   "cell_type": "code",
   "execution_count": null,
   "metadata": {},
   "outputs": [],
   "source": []
  }
 ],
 "metadata": {
  "kernelspec": {
   "display_name": "Python 3",
   "language": "python",
   "name": "python3"
  },
  "language_info": {
   "codemirror_mode": {
    "name": "ipython",
    "version": 3
   },
   "file_extension": ".py",
   "mimetype": "text/x-python",
   "name": "python",
   "nbconvert_exporter": "python",
   "pygments_lexer": "ipython3",
   "version": "3.7.4"
  }
 },
 "nbformat": 4,
 "nbformat_minor": 2
}
