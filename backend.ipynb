{
 "cells": [
  {
   "cell_type": "code",
   "execution_count": 2,
   "metadata": {},
   "outputs": [],
   "source": [
    "import sqlite3\n",
    "from sqlite3 import Error\n",
    " \n",
    "# def create_connection(db_file):\n",
    "#     \"\"\" create a database connection to a SQLite database \"\"\"\n",
    "#     conn = None\n",
    "#     try:\n",
    "#         conn = sqlite3.connect(db_file)\n",
    "#         print(sqlite3.version)\n",
    "#     except Error as e:\n",
    "#         print(e)\n",
    "#     finally:\n",
    "#         if conn:\n",
    "#             conn.close()"
   ]
  },
  {
   "cell_type": "code",
   "execution_count": 3,
   "metadata": {},
   "outputs": [
    {
     "ename": "SyntaxError",
     "evalue": "invalid syntax (<ipython-input-3-6d77127a95d6>, line 46)",
     "output_type": "error",
     "traceback": [
      "\u001b[1;36m  File \u001b[1;32m\"<ipython-input-3-6d77127a95d6>\"\u001b[1;36m, line \u001b[1;32m46\u001b[0m\n\u001b[1;33m    global List =[name,address,tel,email,location,no_units,type_info,model_no,serial_no,sensor_defects,date,no_visits,faults,warr]\u001b[0m\n\u001b[1;37m                ^\u001b[0m\n\u001b[1;31mSyntaxError\u001b[0m\u001b[1;31m:\u001b[0m invalid syntax\n"
     ]
    }
   ],
   "source": [
    "def connect():\n",
    "    conn = sqlite3.connect(\"atech.db\") # Connect the database file\n",
    "    cur = conn.cursor()\n",
    "    \n",
    "    # SQL commands to create tables in the database\n",
    "    sql_command = \"\"\"CREATE TABLE IF NOT EXISTS Customer (\n",
    "    id INTEGER PRIMARY KEY AUTO_INCREMENT,\n",
    "    name nvarchar(20) NOT NULL,\n",
    "    address varchar(100) NOT NULL,\n",
    "    tel nvarchar(13) NOT NULL PRIMARY KEY CHECK (len(tel)>=10),\n",
    "    email varchar(40) PRIMARY KEY,\n",
    "    location text,\n",
    "    no_of_units INTEGER DEFAULT 1,\n",
    "    Type nvarchar(20) NOT NULL,\n",
    "    Model_no nvarchar(20) NOT NULL,\n",
    "    Serial_no nvarchar(20) NOT NULL,\n",
    "    Sensor_defects nvarchar(200),\n",
    "    Date_of_installation DATE DEFAULT GETDATE(),\n",
    "    no_of_visits INTEGER DEFAULT 0,\n",
    "    Faults_list nvarchar(200),\n",
    "    warranty INTEGER LIMIT 10\n",
    "    );\"\"\"\n",
    "    \n",
    "#     sql_command1 = \"\"\"CREATE TABLE IF NOT EXISTS Data Logger (\n",
    "#     ,                                   \n",
    "#     no_of_units INTEGER DEFAULT 1,\n",
    "#     Type nvarchar(20) NOT NULL,\n",
    "#     Model_no nvarchar(20) NOT NULL,\n",
    "#     Serial_no nvarchar(20) NOT NULL,\n",
    "#     Sensor_defects nvarchar(200),\n",
    "#     Date_of_installation DATE DEFAULT GETDATE()\n",
    "#     );\"\"\"\n",
    "    \n",
    "#     sql_command2 = \"\"\"CREATE TABLE IF NOT EXISTS Maintenance (\n",
    "#     ,\n",
    "#     no_of_visits INTEGER DEFAULT 0,\n",
    "#     Faults_list nvarchar(200),\n",
    "#     warranty INTEGER LIMIT 10\n",
    "# x for x in [sqlcommand, sqlcommand1, sqlcommand2]\n",
    "#     );\"\"\"\n",
    "    \n",
    "    cur.execute(sql_command)\n",
    "#     List =[('Customer',name,address,tel,email,location),\n",
    "#            ('Data Logger',no_units,type_info,model_no,serial_no,sensor_defects,date),\n",
    "#           ('Maintenance',no_visits,faults,warr)]\n",
    "    global List =[name,address,tel,email,location,no_units,type_info,model_no,serial_no,sensor_defects,date,no_visits,faults,warr]\n",
    "    conn.commit()\n",
    "    conn.close()"
   ]
  },
  {
   "cell_type": "code",
   "execution_count": null,
   "metadata": {},
   "outputs": [],
   "source": [
    "def insert (List):\n",
    "    conn = sqlite3.connect(\"atech.db\")\n",
    "    cur = conn.cursor()\n",
    "    cur.executemany(\"INSERT INTO Customer VALUES (NULL,?,?,?,?,?,?,?,?,?,?,?,?,?,?)\",List)\n",
    "    conn.commit()\n",
    "    conn.close()\n",
    "    view()\n"
   ]
  },
  {
   "cell_type": "code",
   "execution_count": null,
   "metadata": {},
   "outputs": [],
   "source": [
    "def view():\n",
    "    conn = sqlite3.connect(\"atech.db\")\n",
    "    cur = conn.cursor()\n",
    "    sql=\"\"\"SELECT  \n",
    "        id AS ID,\n",
    "        name AS Name,\n",
    "        address AS Address,\n",
    "        tel AS Mobile No.,\n",
    "        email AS Email,\n",
    "        location AS Location,\n",
    "        no_of_units AS No.of DataLogger/AWS,\n",
    "        type AS TYPE,\n",
    "        model_no AS Model No.,\n",
    "        serial_no AS Serial No.,\n",
    "        sensor_defects AS Sensor Defects,\n",
    "        date AS Date of Installation,\n",
    "        no_of_visits AS No.of Visits Done,\n",
    "        faults_list AS Faults List,\n",
    "        warr AS Warranty\n",
    "        ;\"\"\"\n",
    "    sql1=\"\"\"SELECT * FROM Customer;\"\"\"\n",
    "    cur.execute(sql1)\n",
    "    rows = cur.fetchall()\n",
    "    conn.close()\n",
    "    return rows"
   ]
  },
  {
   "cell_type": "code",
   "execution_count": null,
   "metadata": {},
   "outputs": [],
   "source": [
    "def search(name=\"\",address=\"\",tel=\"\",email=\"\",location=\"\",no_units=\"\",type_info=\"\",model_no=\"\",serial_no=\"\",sensor_defects=\"\",date=\"\",no_visits=\"\",faults=\"\",warr=\"\"):\n",
    "    conn = sqlite3.connect(\"atech.db\")\n",
    "    cur = conn.cursor()\n",
    "    sql=\"\"\"SELECT * FROM Info \n",
    "    WHERE name=? OR address=? OR tel=? OR email=? OR location=? OR no_units=? OR type_info=? OR model_no=? OR serial_no=? \n",
    "    OR sensor_defects=? OR date=? OR no_visits=? OR faults=? OR warr=?\"\"\"\n",
    "    cur.execute(sql, List)\n",
    "    rows = cur.fetchall()\n",
    "    conn.close()\n",
    "    return rows"
   ]
  },
  {
   "cell_type": "code",
   "execution_count": null,
   "metadata": {},
   "outputs": [],
   "source": [
    "def delete(name):\n",
    "    conn = sqlite3.connect(\"atech.db\")\n",
    "    cur = conn.cursor()\n",
    "    cur.execute(\"DELETE FROM [Info,Atech,Amc_details] WHERE name=?\",(name,))\n",
    "    conn.commit()\n",
    "    conn.close()"
   ]
  },
  {
   "cell_type": "code",
   "execution_count": null,
   "metadata": {},
   "outputs": [],
   "source": [
    "def update(id,name,address,tel,email,location):\n",
    "    conn = sqlite3.connect(\"atech.db\")\n",
    "    cur = conn.cursor()\n",
    "    cur.execute(\"UPDATE Customer SET name=?, address=?, tel=?, email=?, location=? WHERE id=?\",(name,address,tel,email,location,id))\n",
    "    conn.commit()\n",
    "    conn.close()"
   ]
  },
  {
   "cell_type": "code",
   "execution_count": 1,
   "metadata": {},
   "outputs": [
    {
     "ename": "NameError",
     "evalue": "name 'connect' is not defined",
     "output_type": "error",
     "traceback": [
      "\u001b[1;31m---------------------------------------------------------------------------\u001b[0m",
      "\u001b[1;31mNameError\u001b[0m                                 Traceback (most recent call last)",
      "\u001b[1;32m<ipython-input-1-9d07b1149dfe>\u001b[0m in \u001b[0;36m<module>\u001b[1;34m\u001b[0m\n\u001b[0;32m      1\u001b[0m \u001b[1;31m# if __name__ == '__main__':\u001b[0m\u001b[1;33m\u001b[0m\u001b[1;33m\u001b[0m\u001b[1;33m\u001b[0m\u001b[0m\n\u001b[0;32m      2\u001b[0m \u001b[1;31m#     create_connection(r\"C:\\sqlite\\db\\atech.db\")\u001b[0m\u001b[1;33m\u001b[0m\u001b[1;33m\u001b[0m\u001b[1;33m\u001b[0m\u001b[0m\n\u001b[1;32m----> 3\u001b[1;33m \u001b[0mconnect\u001b[0m\u001b[1;33m(\u001b[0m\u001b[1;33m)\u001b[0m\u001b[1;33m\u001b[0m\u001b[1;33m\u001b[0m\u001b[0m\n\u001b[0m",
      "\u001b[1;31mNameError\u001b[0m: name 'connect' is not defined"
     ]
    }
   ],
   "source": [
    "# if __name__ == '__main__':\n",
    "#     create_connection(r\"C:\\sqlite\\db\\atech.db\")\n",
    "connect()"
   ]
  },
  {
   "cell_type": "code",
   "execution_count": null,
   "metadata": {},
   "outputs": [],
   "source": []
  }
 ],
 "metadata": {
  "kernelspec": {
   "display_name": "Python 3",
   "language": "python",
   "name": "python3"
  },
  "language_info": {
   "codemirror_mode": {
    "name": "ipython",
    "version": 3
   },
   "file_extension": ".py",
   "mimetype": "text/x-python",
   "name": "python",
   "nbconvert_exporter": "python",
   "pygments_lexer": "ipython3",
   "version": "3.7.4"
  }
 },
 "nbformat": 4,
 "nbformat_minor": 2
}
